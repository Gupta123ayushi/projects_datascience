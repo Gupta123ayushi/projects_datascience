{
 "cells": [
  {
   "cell_type": "markdown",
   "id": "54228404",
   "metadata": {},
   "source": [
    "<a id='import_packages'></a>\n",
    "# 1. Import Packages"
   ]
  },
  {
   "cell_type": "code",
   "execution_count": 1,
   "id": "8789a865",
   "metadata": {},
   "outputs": [],
   "source": [
    "import pandas  as pd\n",
    "import numpy as np\n",
    "import os\n"
   ]
  },
  {
   "cell_type": "markdown",
   "id": "b2bf4e67",
   "metadata": {},
   "source": [
    "### Once we imported the dataset, let’s view it using the below command."
   ]
  },
  {
   "cell_type": "code",
   "execution_count": 2,
   "id": "293f9d07",
   "metadata": {},
   "outputs": [
    {
     "data": {
      "text/plain": [
       "'C:\\\\Users\\\\ayush\\\\Capstone_Project'"
      ]
     },
     "execution_count": 2,
     "metadata": {},
     "output_type": "execute_result"
    }
   ],
   "source": [
    "os.getcwd()     "
   ]
  },
  {
   "cell_type": "code",
   "execution_count": 3,
   "id": "5814dced",
   "metadata": {},
   "outputs": [],
   "source": [
    "import pickle      "
   ]
  },
  {
   "cell_type": "code",
   "execution_count": 4,
   "id": "2c84ef78",
   "metadata": {},
   "outputs": [],
   "source": [
    "mymodel=pickle.load(open(\"Loans_to_students1.pkl\",\"rb\"))"
   ]
  },
  {
   "cell_type": "markdown",
   "id": "f6d54bfa",
   "metadata": {},
   "source": [
    "    Feeding the independent feature to predicting the target "
   ]
  },
  {
   "cell_type": "code",
   "execution_count": 5,
   "id": "a06dee6c",
   "metadata": {},
   "outputs": [],
   "source": [
    "loans_to_give=pd.DataFrame({'Gender':[0], 'Married':[1], 'Dependents':[0.0], 'Education':[0], 'Self_Employed':[0],\n",
    "       'ApplicantIncome':[5849], 'CoapplicantIncome':[0.0], 'LoanAmount':[5000],\n",
    "       'Loan_Amount_Term':[360.0], 'Credit_History':[7.0], 'Property_Area':[3]})"
   ]
  },
  {
   "cell_type": "code",
   "execution_count": 6,
   "id": "3c94dfdc",
   "metadata": {},
   "outputs": [
    {
     "data": {
      "text/plain": [
       "array([1])"
      ]
     },
     "execution_count": 6,
     "metadata": {},
     "output_type": "execute_result"
    }
   ],
   "source": [
    "mymodel.predict(loans_to_give)"
   ]
  },
  {
   "cell_type": "markdown",
   "id": "28cd3409",
   "metadata": {},
   "source": [
    "     The Customer Who matches The Criteria the loan provided has classified  as [1]\n",
    "     The Customer Who not matches The Criteria the loan not provided has classified as [0]"
   ]
  },
  {
   "cell_type": "code",
   "execution_count": null,
   "id": "1f4bbfcb",
   "metadata": {},
   "outputs": [],
   "source": []
  }
 ],
 "metadata": {
  "kernelspec": {
   "display_name": "Python 3 (ipykernel)",
   "language": "python",
   "name": "python3"
  },
  "language_info": {
   "codemirror_mode": {
    "name": "ipython",
    "version": 3
   },
   "file_extension": ".py",
   "mimetype": "text/x-python",
   "name": "python",
   "nbconvert_exporter": "python",
   "pygments_lexer": "ipython3",
   "version": "3.8.10"
  }
 },
 "nbformat": 4,
 "nbformat_minor": 5
}
